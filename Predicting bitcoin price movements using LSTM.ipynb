{
 "cells": [
  {
   "cell_type": "markdown",
   "metadata": {},
   "source": [
    "## Load libraries"
   ]
  },
  {
   "cell_type": "code",
   "execution_count": 1,
   "metadata": {},
   "outputs": [],
   "source": [
    "import numpy as np\n",
    "import pandas as pd\n",
    "import matplotlib.pyplot as plt\n",
    "import math\n",
    "\n",
    "from sklearn.preprocessing import MinMaxScaler\n",
    "from sklearn.metrics import mean_squared_error\n",
    "\n",
    "from keras.models import Sequential\n",
    "from keras.layers import Dense\n",
    "from keras.layers import LSTM"
   ]
  },
  {
   "cell_type": "markdown",
   "metadata": {},
   "source": [
    "## Load the dataset"
   ]
  },
  {
   "cell_type": "code",
   "execution_count": 5,
   "metadata": {
    "collapsed": true
   },
   "outputs": [],
   "source": [
    "data = pd.read_csv(\"C:/Users/domal/OneDrive/Desktop/Machine Learning Project - 2024062804/Bitcoin-price-Prediction-using-LSTM-master/bitcoin_ticker.csv\")"
   ]
  },
  {
   "cell_type": "code",
   "execution_count": 3,
   "metadata": {},
   "outputs": [
    {
     "data": {
      "text/html": [
       "<div>\n",
       "<style>\n",
       "    .dataframe thead tr:only-child th {\n",
       "        text-align: right;\n",
       "    }\n",
       "\n",
       "    .dataframe thead th {\n",
       "        text-align: left;\n",
       "    }\n",
       "\n",
       "    .dataframe tbody tr th {\n",
       "        vertical-align: top;\n",
       "    }\n",
       "</style>\n",
       "<table border=\"1\" class=\"dataframe\">\n",
       "  <thead>\n",
       "    <tr style=\"text-align: right;\">\n",
       "      <th></th>\n",
       "      <th>date_id</th>\n",
       "      <th>datetime_id</th>\n",
       "      <th>market</th>\n",
       "      <th>rpt_key</th>\n",
       "      <th>last</th>\n",
       "      <th>diff_24h</th>\n",
       "      <th>diff_per_24h</th>\n",
       "      <th>bid</th>\n",
       "      <th>ask</th>\n",
       "      <th>low</th>\n",
       "      <th>high</th>\n",
       "      <th>volume</th>\n",
       "      <th>created_at</th>\n",
       "      <th>updated_at</th>\n",
       "    </tr>\n",
       "  </thead>\n",
       "  <tbody>\n",
       "    <tr>\n",
       "      <th>0</th>\n",
       "      <td>2017-05-31</td>\n",
       "      <td>2017-06-01 00:00:00</td>\n",
       "      <td>bitstamp</td>\n",
       "      <td>btc_eur</td>\n",
       "      <td>1996.72</td>\n",
       "      <td>2029.99</td>\n",
       "      <td>-1.638924</td>\n",
       "      <td>2005.50</td>\n",
       "      <td>2005.56</td>\n",
       "      <td>1950.00</td>\n",
       "      <td>2063.73</td>\n",
       "      <td>2314.500750</td>\n",
       "      <td>2017-05-31 14:59:36</td>\n",
       "      <td>2017-05-31 14:59:36</td>\n",
       "    </tr>\n",
       "    <tr>\n",
       "      <th>1</th>\n",
       "      <td>2017-05-31</td>\n",
       "      <td>2017-06-01 00:00:00</td>\n",
       "      <td>bitflyer</td>\n",
       "      <td>btc_jpy</td>\n",
       "      <td>267098.00</td>\n",
       "      <td>269649.00</td>\n",
       "      <td>-0.946045</td>\n",
       "      <td>267124.00</td>\n",
       "      <td>267267.00</td>\n",
       "      <td>267124.00</td>\n",
       "      <td>267267.00</td>\n",
       "      <td>70922.880112</td>\n",
       "      <td>2017-05-31 14:59:36</td>\n",
       "      <td>2017-05-31 14:59:36</td>\n",
       "    </tr>\n",
       "    <tr>\n",
       "      <th>2</th>\n",
       "      <td>2017-05-31</td>\n",
       "      <td>2017-06-01 00:00:00</td>\n",
       "      <td>korbit</td>\n",
       "      <td>btc_krw</td>\n",
       "      <td>3003500.00</td>\n",
       "      <td>3140000.00</td>\n",
       "      <td>-4.347134</td>\n",
       "      <td>3003500.00</td>\n",
       "      <td>3004000.00</td>\n",
       "      <td>3002000.00</td>\n",
       "      <td>3209500.00</td>\n",
       "      <td>6109.752872</td>\n",
       "      <td>2017-05-31 14:59:36</td>\n",
       "      <td>2017-05-31 14:59:36</td>\n",
       "    </tr>\n",
       "    <tr>\n",
       "      <th>3</th>\n",
       "      <td>2017-05-31</td>\n",
       "      <td>2017-06-01 00:00:00</td>\n",
       "      <td>bitstamp</td>\n",
       "      <td>btc_usd</td>\n",
       "      <td>2237.40</td>\n",
       "      <td>2239.37</td>\n",
       "      <td>-0.087971</td>\n",
       "      <td>2233.09</td>\n",
       "      <td>2237.40</td>\n",
       "      <td>2154.28</td>\n",
       "      <td>2293.46</td>\n",
       "      <td>13681.282017</td>\n",
       "      <td>2017-05-31 14:59:36</td>\n",
       "      <td>2017-05-31 14:59:36</td>\n",
       "    </tr>\n",
       "    <tr>\n",
       "      <th>4</th>\n",
       "      <td>2017-05-31</td>\n",
       "      <td>2017-06-01 00:00:00</td>\n",
       "      <td>okcoin</td>\n",
       "      <td>btc_usd</td>\n",
       "      <td>2318.82</td>\n",
       "      <td>2228.70</td>\n",
       "      <td>4.043613</td>\n",
       "      <td>2319.40</td>\n",
       "      <td>2319.99</td>\n",
       "      <td>2129.78</td>\n",
       "      <td>2318.82</td>\n",
       "      <td>4241.641516</td>\n",
       "      <td>2017-05-31 14:59:36</td>\n",
       "      <td>2017-05-31 14:59:36</td>\n",
       "    </tr>\n",
       "  </tbody>\n",
       "</table>\n",
       "</div>"
      ],
      "text/plain": [
       "      date_id          datetime_id    market  rpt_key        last    diff_24h  \\\n",
       "0  2017-05-31  2017-06-01 00:00:00  bitstamp  btc_eur     1996.72     2029.99   \n",
       "1  2017-05-31  2017-06-01 00:00:00  bitflyer  btc_jpy   267098.00   269649.00   \n",
       "2  2017-05-31  2017-06-01 00:00:00    korbit  btc_krw  3003500.00  3140000.00   \n",
       "3  2017-05-31  2017-06-01 00:00:00  bitstamp  btc_usd     2237.40     2239.37   \n",
       "4  2017-05-31  2017-06-01 00:00:00    okcoin  btc_usd     2318.82     2228.70   \n",
       "\n",
       "   diff_per_24h         bid         ask         low        high        volume  \\\n",
       "0     -1.638924     2005.50     2005.56     1950.00     2063.73   2314.500750   \n",
       "1     -0.946045   267124.00   267267.00   267124.00   267267.00  70922.880112   \n",
       "2     -4.347134  3003500.00  3004000.00  3002000.00  3209500.00   6109.752872   \n",
       "3     -0.087971     2233.09     2237.40     2154.28     2293.46  13681.282017   \n",
       "4      4.043613     2319.40     2319.99     2129.78     2318.82   4241.641516   \n",
       "\n",
       "            created_at           updated_at  \n",
       "0  2017-05-31 14:59:36  2017-05-31 14:59:36  \n",
       "1  2017-05-31 14:59:36  2017-05-31 14:59:36  \n",
       "2  2017-05-31 14:59:36  2017-05-31 14:59:36  \n",
       "3  2017-05-31 14:59:36  2017-05-31 14:59:36  \n",
       "4  2017-05-31 14:59:36  2017-05-31 14:59:36  "
      ]
     },
     "execution_count": 3,
     "metadata": {},
     "output_type": "execute_result"
    }
   ],
   "source": [
    "data.head()"
   ]
  },
  {
   "cell_type": "code",
   "execution_count": 6,
   "metadata": {},
   "outputs": [
    {
     "data": {
      "text/plain": [
       "rpt_key\n",
       "btc_usd       125438\n",
       "btc_eur        62719\n",
       "btc_jpy        62719\n",
       "btc_krw        62719\n",
       "etc_krw        62719\n",
       "eth_btc        62719\n",
       "eth_krw        62719\n",
       "fx_btc_jpy     62719\n",
       "ltc_usd        62719\n",
       "Name: count, dtype: int64"
      ]
     },
     "execution_count": 6,
     "metadata": {},
     "output_type": "execute_result"
    }
   ],
   "source": [
    "data['rpt_key'].value_counts()"
   ]
  },
  {
   "cell_type": "markdown",
   "metadata": {},
   "source": [
    "## Subset USD"
   ]
  },
  {
   "cell_type": "code",
   "execution_count": 7,
   "metadata": {
    "collapsed": true
   },
   "outputs": [],
   "source": [
    "df = data.loc[(data['rpt_key'] == 'btc_usd')]"
   ]
  },
  {
   "cell_type": "code",
   "execution_count": 8,
   "metadata": {
    "scrolled": true
   },
   "outputs": [
    {
     "data": {
      "text/html": [
       "<div>\n",
       "<style scoped>\n",
       "    .dataframe tbody tr th:only-of-type {\n",
       "        vertical-align: middle;\n",
       "    }\n",
       "\n",
       "    .dataframe tbody tr th {\n",
       "        vertical-align: top;\n",
       "    }\n",
       "\n",
       "    .dataframe thead th {\n",
       "        text-align: right;\n",
       "    }\n",
       "</style>\n",
       "<table border=\"1\" class=\"dataframe\">\n",
       "  <thead>\n",
       "    <tr style=\"text-align: right;\">\n",
       "      <th></th>\n",
       "      <th>date_id</th>\n",
       "      <th>datetime_id</th>\n",
       "      <th>market</th>\n",
       "      <th>rpt_key</th>\n",
       "      <th>last</th>\n",
       "      <th>diff_24h</th>\n",
       "      <th>diff_per_24h</th>\n",
       "      <th>bid</th>\n",
       "      <th>ask</th>\n",
       "      <th>low</th>\n",
       "      <th>high</th>\n",
       "      <th>volume</th>\n",
       "      <th>created_at</th>\n",
       "      <th>updated_at</th>\n",
       "    </tr>\n",
       "  </thead>\n",
       "  <tbody>\n",
       "    <tr>\n",
       "      <th>3</th>\n",
       "      <td>2017-05-31</td>\n",
       "      <td>2017-06-01 00:00:00</td>\n",
       "      <td>bitstamp</td>\n",
       "      <td>btc_usd</td>\n",
       "      <td>2237.40</td>\n",
       "      <td>2239.37</td>\n",
       "      <td>-0.087971</td>\n",
       "      <td>2233.09</td>\n",
       "      <td>2237.40</td>\n",
       "      <td>2154.28</td>\n",
       "      <td>2293.46</td>\n",
       "      <td>13681.282017</td>\n",
       "      <td>2017-05-31 14:59:36</td>\n",
       "      <td>2017-05-31 14:59:36</td>\n",
       "    </tr>\n",
       "    <tr>\n",
       "      <th>4</th>\n",
       "      <td>2017-05-31</td>\n",
       "      <td>2017-06-01 00:00:00</td>\n",
       "      <td>okcoin</td>\n",
       "      <td>btc_usd</td>\n",
       "      <td>2318.82</td>\n",
       "      <td>2228.70</td>\n",
       "      <td>4.043613</td>\n",
       "      <td>2319.40</td>\n",
       "      <td>2319.99</td>\n",
       "      <td>2129.78</td>\n",
       "      <td>2318.82</td>\n",
       "      <td>4241.641516</td>\n",
       "      <td>2017-05-31 14:59:36</td>\n",
       "      <td>2017-05-31 14:59:36</td>\n",
       "    </tr>\n",
       "    <tr>\n",
       "      <th>15</th>\n",
       "      <td>2017-06-01</td>\n",
       "      <td>2017-06-01 00:01:00</td>\n",
       "      <td>bitstamp</td>\n",
       "      <td>btc_usd</td>\n",
       "      <td>2248.39</td>\n",
       "      <td>2242.44</td>\n",
       "      <td>0.265336</td>\n",
       "      <td>2247.77</td>\n",
       "      <td>2248.38</td>\n",
       "      <td>2154.28</td>\n",
       "      <td>2293.46</td>\n",
       "      <td>13701.698603</td>\n",
       "      <td>2017-05-31 15:00:36</td>\n",
       "      <td>2017-05-31 15:00:36</td>\n",
       "    </tr>\n",
       "    <tr>\n",
       "      <th>16</th>\n",
       "      <td>2017-06-01</td>\n",
       "      <td>2017-06-01 00:01:00</td>\n",
       "      <td>okcoin</td>\n",
       "      <td>btc_usd</td>\n",
       "      <td>2320.42</td>\n",
       "      <td>2228.40</td>\n",
       "      <td>4.129420</td>\n",
       "      <td>2320.99</td>\n",
       "      <td>2321.49</td>\n",
       "      <td>2129.78</td>\n",
       "      <td>2322.00</td>\n",
       "      <td>4260.261516</td>\n",
       "      <td>2017-05-31 15:00:36</td>\n",
       "      <td>2017-05-31 15:00:36</td>\n",
       "    </tr>\n",
       "    <tr>\n",
       "      <th>23</th>\n",
       "      <td>2017-06-01</td>\n",
       "      <td>2017-06-01 00:02:00</td>\n",
       "      <td>bitstamp</td>\n",
       "      <td>btc_usd</td>\n",
       "      <td>2248.35</td>\n",
       "      <td>2238.58</td>\n",
       "      <td>0.436437</td>\n",
       "      <td>2248.35</td>\n",
       "      <td>2248.69</td>\n",
       "      <td>2154.28</td>\n",
       "      <td>2293.46</td>\n",
       "      <td>13742.110913</td>\n",
       "      <td>2017-05-31 15:01:36</td>\n",
       "      <td>2017-05-31 15:01:36</td>\n",
       "    </tr>\n",
       "  </tbody>\n",
       "</table>\n",
       "</div>"
      ],
      "text/plain": [
       "       date_id          datetime_id    market  rpt_key     last  diff_24h  \\\n",
       "3   2017-05-31  2017-06-01 00:00:00  bitstamp  btc_usd  2237.40   2239.37   \n",
       "4   2017-05-31  2017-06-01 00:00:00    okcoin  btc_usd  2318.82   2228.70   \n",
       "15  2017-06-01  2017-06-01 00:01:00  bitstamp  btc_usd  2248.39   2242.44   \n",
       "16  2017-06-01  2017-06-01 00:01:00    okcoin  btc_usd  2320.42   2228.40   \n",
       "23  2017-06-01  2017-06-01 00:02:00  bitstamp  btc_usd  2248.35   2238.58   \n",
       "\n",
       "    diff_per_24h      bid      ask      low     high        volume  \\\n",
       "3      -0.087971  2233.09  2237.40  2154.28  2293.46  13681.282017   \n",
       "4       4.043613  2319.40  2319.99  2129.78  2318.82   4241.641516   \n",
       "15      0.265336  2247.77  2248.38  2154.28  2293.46  13701.698603   \n",
       "16      4.129420  2320.99  2321.49  2129.78  2322.00   4260.261516   \n",
       "23      0.436437  2248.35  2248.69  2154.28  2293.46  13742.110913   \n",
       "\n",
       "             created_at           updated_at  \n",
       "3   2017-05-31 14:59:36  2017-05-31 14:59:36  \n",
       "4   2017-05-31 14:59:36  2017-05-31 14:59:36  \n",
       "15  2017-05-31 15:00:36  2017-05-31 15:00:36  \n",
       "16  2017-05-31 15:00:36  2017-05-31 15:00:36  \n",
       "23  2017-05-31 15:01:36  2017-05-31 15:01:36  "
      ]
     },
     "execution_count": 8,
     "metadata": {},
     "output_type": "execute_result"
    }
   ],
   "source": [
    "df.head()"
   ]
  },
  {
   "cell_type": "markdown",
   "metadata": {},
   "source": [
    "### Convert datetime_id to data type and filter dates greater than  2017-06-28 00:00:00"
   ]
  },
  {
   "cell_type": "code",
   "execution_count": 9,
   "metadata": {
    "collapsed": true
   },
   "outputs": [],
   "source": [
    "df = df.reset_index(drop=True)\n",
    "df['datetime'] = pd.to_datetime(df['datetime_id'])\n",
    "df = df.loc[df['datetime'] > pd.to_datetime('2017-06-28 00:00:00')]"
   ]
  },
  {
   "cell_type": "code",
   "execution_count": 10,
   "metadata": {
    "collapsed": true
   },
   "outputs": [],
   "source": [
    "df = df[['datetime', 'last', 'diff_24h', 'diff_per_24h', 'bid', 'ask', 'low', 'high', 'volume']]"
   ]
  },
  {
   "cell_type": "code",
   "execution_count": 11,
   "metadata": {
    "scrolled": true
   },
   "outputs": [
    {
     "data": {
      "text/html": [
       "<div>\n",
       "<style scoped>\n",
       "    .dataframe tbody tr th:only-of-type {\n",
       "        vertical-align: middle;\n",
       "    }\n",
       "\n",
       "    .dataframe tbody tr th {\n",
       "        vertical-align: top;\n",
       "    }\n",
       "\n",
       "    .dataframe thead th {\n",
       "        text-align: right;\n",
       "    }\n",
       "</style>\n",
       "<table border=\"1\" class=\"dataframe\">\n",
       "  <thead>\n",
       "    <tr style=\"text-align: right;\">\n",
       "      <th></th>\n",
       "      <th>datetime</th>\n",
       "      <th>last</th>\n",
       "      <th>diff_24h</th>\n",
       "      <th>diff_per_24h</th>\n",
       "      <th>bid</th>\n",
       "      <th>ask</th>\n",
       "      <th>low</th>\n",
       "      <th>high</th>\n",
       "      <th>volume</th>\n",
       "    </tr>\n",
       "  </thead>\n",
       "  <tbody>\n",
       "    <tr>\n",
       "      <th>77762</th>\n",
       "      <td>2017-06-28 00:01:00</td>\n",
       "      <td>2344.00</td>\n",
       "      <td>2491.98</td>\n",
       "      <td>-5.938250</td>\n",
       "      <td>2335.01</td>\n",
       "      <td>2343.89</td>\n",
       "      <td>2307.0</td>\n",
       "      <td>2473.19</td>\n",
       "      <td>20719.583592</td>\n",
       "    </tr>\n",
       "    <tr>\n",
       "      <th>77763</th>\n",
       "      <td>2017-06-28 00:01:00</td>\n",
       "      <td>2499.39</td>\n",
       "      <td>2682.25</td>\n",
       "      <td>-6.817411</td>\n",
       "      <td>2495.00</td>\n",
       "      <td>2499.33</td>\n",
       "      <td>2444.0</td>\n",
       "      <td>2780.62</td>\n",
       "      <td>2265.557866</td>\n",
       "    </tr>\n",
       "    <tr>\n",
       "      <th>77764</th>\n",
       "      <td>2017-06-28 00:02:00</td>\n",
       "      <td>2337.18</td>\n",
       "      <td>2491.98</td>\n",
       "      <td>-6.211928</td>\n",
       "      <td>2337.18</td>\n",
       "      <td>2340.00</td>\n",
       "      <td>2307.0</td>\n",
       "      <td>2473.19</td>\n",
       "      <td>20732.082581</td>\n",
       "    </tr>\n",
       "    <tr>\n",
       "      <th>77765</th>\n",
       "      <td>2017-06-28 00:02:00</td>\n",
       "      <td>2492.76</td>\n",
       "      <td>2682.25</td>\n",
       "      <td>-7.064591</td>\n",
       "      <td>2492.76</td>\n",
       "      <td>2495.00</td>\n",
       "      <td>2444.0</td>\n",
       "      <td>2780.62</td>\n",
       "      <td>2262.618866</td>\n",
       "    </tr>\n",
       "    <tr>\n",
       "      <th>77766</th>\n",
       "      <td>2017-06-28 00:03:00</td>\n",
       "      <td>2335.02</td>\n",
       "      <td>2491.98</td>\n",
       "      <td>-6.298606</td>\n",
       "      <td>2335.01</td>\n",
       "      <td>2335.02</td>\n",
       "      <td>2307.0</td>\n",
       "      <td>2473.19</td>\n",
       "      <td>20665.357191</td>\n",
       "    </tr>\n",
       "  </tbody>\n",
       "</table>\n",
       "</div>"
      ],
      "text/plain": [
       "                 datetime     last  diff_24h  diff_per_24h      bid      ask  \\\n",
       "77762 2017-06-28 00:01:00  2344.00   2491.98     -5.938250  2335.01  2343.89   \n",
       "77763 2017-06-28 00:01:00  2499.39   2682.25     -6.817411  2495.00  2499.33   \n",
       "77764 2017-06-28 00:02:00  2337.18   2491.98     -6.211928  2337.18  2340.00   \n",
       "77765 2017-06-28 00:02:00  2492.76   2682.25     -7.064591  2492.76  2495.00   \n",
       "77766 2017-06-28 00:03:00  2335.02   2491.98     -6.298606  2335.01  2335.02   \n",
       "\n",
       "          low     high        volume  \n",
       "77762  2307.0  2473.19  20719.583592  \n",
       "77763  2444.0  2780.62   2265.557866  \n",
       "77764  2307.0  2473.19  20732.082581  \n",
       "77765  2444.0  2780.62   2262.618866  \n",
       "77766  2307.0  2473.19  20665.357191  "
      ]
     },
     "execution_count": 11,
     "metadata": {},
     "output_type": "execute_result"
    }
   ],
   "source": [
    "df.head()"
   ]
  },
  {
   "cell_type": "markdown",
   "metadata": {},
   "source": [
    "### we require only the last value, so we subset that and convert it to numpy array"
   ]
  },
  {
   "cell_type": "code",
   "execution_count": 12,
   "metadata": {
    "collapsed": true
   },
   "outputs": [],
   "source": [
    "df = df[['last']]"
   ]
  },
  {
   "cell_type": "code",
   "execution_count": 13,
   "metadata": {
    "collapsed": true
   },
   "outputs": [],
   "source": [
    "dataset = df.values\n",
    "dataset = dataset.astype('float32')"
   ]
  },
  {
   "cell_type": "code",
   "execution_count": 14,
   "metadata": {},
   "outputs": [
    {
     "data": {
      "text/plain": [
       "array([[2344.  ],\n",
       "       [2499.39],\n",
       "       [2337.18],\n",
       "       ...,\n",
       "       [2394.03],\n",
       "       [2320.47],\n",
       "       [2394.03]], dtype=float32)"
      ]
     },
     "execution_count": 14,
     "metadata": {},
     "output_type": "execute_result"
    }
   ],
   "source": [
    "dataset"
   ]
  },
  {
   "cell_type": "markdown",
   "metadata": {},
   "source": [
    "Neural networks are sensitive to input data, especiallly when we are using activation functions like sigmoid or tanh activation functions are used. ISo we rescale our data to the range of 0-to-1, using MinMaxScaler"
   ]
  },
  {
   "cell_type": "code",
   "execution_count": 15,
   "metadata": {
    "collapsed": true
   },
   "outputs": [],
   "source": [
    "scaler = MinMaxScaler(feature_range=(0, 1))\n",
    "dataset = scaler.fit_transform(dataset)"
   ]
  },
  {
   "cell_type": "code",
   "execution_count": 16,
   "metadata": {},
   "outputs": [
    {
     "data": {
      "text/plain": [
       "array([[0.1997695 ],\n",
       "       [0.49828053],\n",
       "       [0.18666792],\n",
       "       ...,\n",
       "       [0.29587936],\n",
       "       [0.15456724],\n",
       "       [0.29587936]], dtype=float32)"
      ]
     },
     "execution_count": 16,
     "metadata": {},
     "output_type": "execute_result"
    }
   ],
   "source": [
    "dataset"
   ]
  },
  {
   "cell_type": "code",
   "execution_count": 17,
   "metadata": {},
   "outputs": [
    {
     "name": "stdout",
     "output_type": "stream",
     "text": [
      "31942 15734\n"
     ]
    }
   ],
   "source": [
    "train_size = int(len(dataset) * 0.67)\n",
    "test_size = len(dataset) - train_size\n",
    "train, test = dataset[0:train_size, :], dataset[train_size:len(dataset), :]\n",
    "print(len(train), len(test))"
   ]
  },
  {
   "cell_type": "markdown",
   "metadata": {},
   "source": [
    "Now let us define the function called create_dataset, which take two inputs, \n",
    "\n",
    "1. Dataset - numpy array that we want to convert into a dataset\n",
    "2. look_back - number of previous time steps to use as input variables to predict the next time period\n"
   ]
  },
  {
   "cell_type": "code",
   "execution_count": 18,
   "metadata": {
    "collapsed": true
   },
   "outputs": [],
   "source": [
    "# convert an array of values into a dataset matrix\n",
    "def create_dataset(dataset, look_back=1):\n",
    "  dataX, dataY = [], []\n",
    "  for i in range(len(dataset)-look_back-1):\n",
    "    a = dataset[i:(i+look_back), 0]\n",
    "    dataX.append(a)\n",
    "    dataY.append(dataset[i + look_back, 0])\n",
    "  return np.array(dataX), np.array(dataY)"
   ]
  },
  {
   "cell_type": "code",
   "execution_count": 19,
   "metadata": {
    "collapsed": true
   },
   "outputs": [],
   "source": [
    "look_back = 10\n",
    "trainX, trainY = create_dataset(train, look_back=look_back)\n",
    "testX, testY = create_dataset(test, look_back=look_back)"
   ]
  },
  {
   "cell_type": "code",
   "execution_count": 20,
   "metadata": {},
   "outputs": [
    {
     "data": {
      "text/plain": [
       "array([[0.1997695 , 0.49828053, 0.18666792, ..., 0.4975314 , 0.19973087,\n",
       "        0.4860053 ],\n",
       "       [0.49828053, 0.18666792, 0.4855442 , ..., 0.19973087, 0.4860053 ,\n",
       "        0.18442059],\n",
       "       [0.18666792, 0.4855442 , 0.18251848, ..., 0.4860053 , 0.18442059,\n",
       "        0.48598576],\n",
       "       ...,\n",
       "       [0.53376245, 0.6943617 , 0.53105354, ..., 0.7082124 , 0.5205841 ,\n",
       "        0.7081547 ],\n",
       "       [0.6943617 , 0.53105354, 0.70823145, ..., 0.5205841 , 0.7081547 ,\n",
       "        0.52665424],\n",
       "       [0.53105354, 0.70823145, 0.5332055 , ..., 0.7081547 , 0.52665424,\n",
       "        0.7081547 ]], dtype=float32)"
      ]
     },
     "execution_count": 20,
     "metadata": {},
     "output_type": "execute_result"
    }
   ],
   "source": [
    "trainX"
   ]
  },
  {
   "cell_type": "code",
   "execution_count": 21,
   "metadata": {},
   "outputs": [
    {
     "data": {
      "text/plain": [
       "array([0.18442059, 0.48598576, 0.19208527, ..., 0.52665424, 0.7081547 ,\n",
       "       0.5206418 ], dtype=float32)"
      ]
     },
     "execution_count": 21,
     "metadata": {},
     "output_type": "execute_result"
    }
   ],
   "source": [
    "trainY"
   ]
  },
  {
   "cell_type": "code",
   "execution_count": null,
   "metadata": {
    "collapsed": true
   },
   "outputs": [],
   "source": [
    "trainX = np.reshape(trainX, (trainX.shape[0], 1, trainX.shape[1]))\n",
    "testX = np.reshape(testX, (testX.shape[0], 1, testX.shape[1]))"
   ]
  },
  {
   "cell_type": "markdown",
   "metadata": {},
   "source": [
    "## Build our Model"
   ]
  },
  {
   "cell_type": "code",
   "execution_count": 23,
   "metadata": {
    "scrolled": true
   },
   "outputs": [
    {
     "name": "stdout",
     "output_type": "stream",
     "text": [
      "Epoch 1/100\n",
      "125/125 - 2s - loss: 0.3560 - 2s/epoch - 19ms/step\n",
      "Epoch 2/100\n",
      "125/125 - 0s - loss: 0.0201 - 414ms/epoch - 3ms/step\n",
      "Epoch 3/100\n",
      "125/125 - 0s - loss: 0.0133 - 410ms/epoch - 3ms/step\n",
      "Epoch 4/100\n",
      "125/125 - 0s - loss: 0.0102 - 301ms/epoch - 2ms/step\n",
      "Epoch 5/100\n",
      "125/125 - 0s - loss: 0.0074 - 310ms/epoch - 2ms/step\n",
      "Epoch 6/100\n",
      "125/125 - 0s - loss: 0.0050 - 260ms/epoch - 2ms/step\n",
      "Epoch 7/100\n",
      "125/125 - 0s - loss: 0.0031 - 284ms/epoch - 2ms/step\n",
      "Epoch 8/100\n",
      "125/125 - 0s - loss: 0.0018 - 284ms/epoch - 2ms/step\n",
      "Epoch 9/100\n",
      "125/125 - 0s - loss: 0.0010 - 286ms/epoch - 2ms/step\n",
      "Epoch 10/100\n",
      "125/125 - 0s - loss: 6.1154e-04 - 300ms/epoch - 2ms/step\n",
      "Epoch 11/100\n",
      "125/125 - 0s - loss: 4.2081e-04 - 300ms/epoch - 2ms/step\n",
      "Epoch 12/100\n",
      "125/125 - 0s - loss: 3.1904e-04 - 301ms/epoch - 2ms/step\n",
      "Epoch 13/100\n",
      "125/125 - 0s - loss: 2.5590e-04 - 270ms/epoch - 2ms/step\n",
      "Epoch 14/100\n",
      "125/125 - 0s - loss: 2.1397e-04 - 298ms/epoch - 2ms/step\n",
      "Epoch 15/100\n",
      "125/125 - 0s - loss: 1.8595e-04 - 289ms/epoch - 2ms/step\n",
      "Epoch 16/100\n",
      "125/125 - 0s - loss: 1.6772e-04 - 290ms/epoch - 2ms/step\n",
      "Epoch 17/100\n",
      "125/125 - 0s - loss: 1.5605e-04 - 245ms/epoch - 2ms/step\n",
      "Epoch 18/100\n",
      "125/125 - 0s - loss: 1.4868e-04 - 283ms/epoch - 2ms/step\n",
      "Epoch 19/100\n",
      "125/125 - 0s - loss: 1.4389e-04 - 270ms/epoch - 2ms/step\n",
      "Epoch 20/100\n",
      "125/125 - 0s - loss: 1.4053e-04 - 262ms/epoch - 2ms/step\n",
      "Epoch 21/100\n",
      "125/125 - 0s - loss: 1.3804e-04 - 300ms/epoch - 2ms/step\n",
      "Epoch 22/100\n",
      "125/125 - 0s - loss: 1.3595e-04 - 297ms/epoch - 2ms/step\n",
      "Epoch 23/100\n",
      "125/125 - 0s - loss: 1.3415e-04 - 270ms/epoch - 2ms/step\n",
      "Epoch 24/100\n",
      "125/125 - 0s - loss: 1.3236e-04 - 267ms/epoch - 2ms/step\n",
      "Epoch 25/100\n",
      "125/125 - 0s - loss: 1.3061e-04 - 286ms/epoch - 2ms/step\n",
      "Epoch 26/100\n",
      "125/125 - 0s - loss: 1.2872e-04 - 273ms/epoch - 2ms/step\n",
      "Epoch 27/100\n",
      "125/125 - 0s - loss: 1.2695e-04 - 266ms/epoch - 2ms/step\n",
      "Epoch 28/100\n",
      "125/125 - 0s - loss: 1.2528e-04 - 253ms/epoch - 2ms/step\n",
      "Epoch 29/100\n",
      "125/125 - 0s - loss: 1.2358e-04 - 260ms/epoch - 2ms/step\n",
      "Epoch 30/100\n",
      "125/125 - 0s - loss: 1.2206e-04 - 334ms/epoch - 3ms/step\n",
      "Epoch 31/100\n",
      "125/125 - 0s - loss: 1.2054e-04 - 364ms/epoch - 3ms/step\n",
      "Epoch 32/100\n",
      "125/125 - 0s - loss: 1.1892e-04 - 306ms/epoch - 2ms/step\n",
      "Epoch 33/100\n",
      "125/125 - 0s - loss: 1.1756e-04 - 272ms/epoch - 2ms/step\n",
      "Epoch 34/100\n",
      "125/125 - 0s - loss: 1.1592e-04 - 263ms/epoch - 2ms/step\n",
      "Epoch 35/100\n",
      "125/125 - 0s - loss: 1.1468e-04 - 316ms/epoch - 3ms/step\n",
      "Epoch 36/100\n",
      "125/125 - 0s - loss: 1.1331e-04 - 234ms/epoch - 2ms/step\n",
      "Epoch 37/100\n",
      "125/125 - 0s - loss: 1.1211e-04 - 231ms/epoch - 2ms/step\n",
      "Epoch 38/100\n",
      "125/125 - 0s - loss: 1.1099e-04 - 254ms/epoch - 2ms/step\n",
      "Epoch 39/100\n",
      "125/125 - 0s - loss: 1.0999e-04 - 248ms/epoch - 2ms/step\n",
      "Epoch 40/100\n",
      "125/125 - 0s - loss: 1.0913e-04 - 281ms/epoch - 2ms/step\n",
      "Epoch 41/100\n",
      "125/125 - 0s - loss: 1.0839e-04 - 252ms/epoch - 2ms/step\n",
      "Epoch 42/100\n",
      "125/125 - 0s - loss: 1.0736e-04 - 250ms/epoch - 2ms/step\n",
      "Epoch 43/100\n",
      "125/125 - 0s - loss: 1.0634e-04 - 282ms/epoch - 2ms/step\n",
      "Epoch 44/100\n",
      "125/125 - 0s - loss: 1.0587e-04 - 295ms/epoch - 2ms/step\n",
      "Epoch 45/100\n",
      "125/125 - 0s - loss: 1.0482e-04 - 271ms/epoch - 2ms/step\n",
      "Epoch 46/100\n",
      "125/125 - 0s - loss: 1.0433e-04 - 249ms/epoch - 2ms/step\n",
      "Epoch 47/100\n",
      "125/125 - 0s - loss: 1.0378e-04 - 281ms/epoch - 2ms/step\n",
      "Epoch 48/100\n",
      "125/125 - 0s - loss: 1.0306e-04 - 277ms/epoch - 2ms/step\n",
      "Epoch 49/100\n",
      "125/125 - 0s - loss: 1.0277e-04 - 273ms/epoch - 2ms/step\n",
      "Epoch 50/100\n",
      "125/125 - 0s - loss: 1.0208e-04 - 267ms/epoch - 2ms/step\n",
      "Epoch 51/100\n",
      "125/125 - 0s - loss: 1.0168e-04 - 283ms/epoch - 2ms/step\n",
      "Epoch 52/100\n",
      "125/125 - 0s - loss: 1.0112e-04 - 268ms/epoch - 2ms/step\n",
      "Epoch 53/100\n",
      "125/125 - 0s - loss: 1.0086e-04 - 289ms/epoch - 2ms/step\n",
      "Epoch 54/100\n",
      "125/125 - 0s - loss: 9.9861e-05 - 300ms/epoch - 2ms/step\n",
      "Epoch 55/100\n",
      "125/125 - 0s - loss: 1.0020e-04 - 221ms/epoch - 2ms/step\n",
      "Epoch 56/100\n",
      "125/125 - 0s - loss: 9.8749e-05 - 267ms/epoch - 2ms/step\n",
      "Epoch 57/100\n",
      "125/125 - 0s - loss: 9.8218e-05 - 398ms/epoch - 3ms/step\n",
      "Epoch 58/100\n",
      "125/125 - 0s - loss: 9.7885e-05 - 342ms/epoch - 3ms/step\n",
      "Epoch 59/100\n",
      "125/125 - 0s - loss: 9.7738e-05 - 310ms/epoch - 2ms/step\n",
      "Epoch 60/100\n",
      "125/125 - 0s - loss: 9.7220e-05 - 300ms/epoch - 2ms/step\n",
      "Epoch 61/100\n",
      "125/125 - 0s - loss: 9.6356e-05 - 316ms/epoch - 3ms/step\n",
      "Epoch 62/100\n",
      "125/125 - 0s - loss: 9.5666e-05 - 254ms/epoch - 2ms/step\n",
      "Epoch 63/100\n",
      "125/125 - 0s - loss: 9.5582e-05 - 281ms/epoch - 2ms/step\n",
      "Epoch 64/100\n",
      "125/125 - 0s - loss: 9.4570e-05 - 300ms/epoch - 2ms/step\n",
      "Epoch 65/100\n",
      "125/125 - 0s - loss: 9.4844e-05 - 280ms/epoch - 2ms/step\n",
      "Epoch 66/100\n",
      "125/125 - 0s - loss: 9.3551e-05 - 304ms/epoch - 2ms/step\n",
      "Epoch 67/100\n",
      "125/125 - 0s - loss: 9.2988e-05 - 317ms/epoch - 3ms/step\n",
      "Epoch 68/100\n",
      "125/125 - 0s - loss: 9.2479e-05 - 288ms/epoch - 2ms/step\n",
      "Epoch 69/100\n",
      "125/125 - 0s - loss: 9.1758e-05 - 299ms/epoch - 2ms/step\n",
      "Epoch 70/100\n",
      "125/125 - 0s - loss: 9.1082e-05 - 318ms/epoch - 3ms/step\n",
      "Epoch 71/100\n",
      "125/125 - 0s - loss: 9.0859e-05 - 287ms/epoch - 2ms/step\n",
      "Epoch 72/100\n",
      "125/125 - 0s - loss: 9.0775e-05 - 273ms/epoch - 2ms/step\n",
      "Epoch 73/100\n",
      "125/125 - 0s - loss: 8.9447e-05 - 324ms/epoch - 3ms/step\n",
      "Epoch 74/100\n",
      "125/125 - 0s - loss: 8.9105e-05 - 333ms/epoch - 3ms/step\n",
      "Epoch 75/100\n",
      "125/125 - 0s - loss: 8.8424e-05 - 324ms/epoch - 3ms/step\n",
      "Epoch 76/100\n",
      "125/125 - 0s - loss: 8.8362e-05 - 294ms/epoch - 2ms/step\n",
      "Epoch 77/100\n",
      "125/125 - 0s - loss: 8.7878e-05 - 336ms/epoch - 3ms/step\n",
      "Epoch 78/100\n",
      "125/125 - 0s - loss: 8.7241e-05 - 386ms/epoch - 3ms/step\n",
      "Epoch 79/100\n",
      "125/125 - 0s - loss: 8.8113e-05 - 316ms/epoch - 3ms/step\n",
      "Epoch 80/100\n",
      "125/125 - 0s - loss: 8.6431e-05 - 336ms/epoch - 3ms/step\n",
      "Epoch 81/100\n",
      "125/125 - 0s - loss: 8.6150e-05 - 307ms/epoch - 2ms/step\n",
      "Epoch 82/100\n",
      "125/125 - 0s - loss: 8.5781e-05 - 311ms/epoch - 2ms/step\n",
      "Epoch 83/100\n",
      "125/125 - 0s - loss: 8.5232e-05 - 249ms/epoch - 2ms/step\n",
      "Epoch 84/100\n",
      "125/125 - 0s - loss: 8.5746e-05 - 235ms/epoch - 2ms/step\n",
      "Epoch 85/100\n",
      "125/125 - 0s - loss: 8.6591e-05 - 213ms/epoch - 2ms/step\n",
      "Epoch 86/100\n",
      "125/125 - 0s - loss: 8.5211e-05 - 288ms/epoch - 2ms/step\n",
      "Epoch 87/100\n",
      "125/125 - 0s - loss: 8.4922e-05 - 376ms/epoch - 3ms/step\n",
      "Epoch 88/100\n",
      "125/125 - 0s - loss: 8.4604e-05 - 248ms/epoch - 2ms/step\n",
      "Epoch 89/100\n",
      "125/125 - 0s - loss: 8.4653e-05 - 217ms/epoch - 2ms/step\n",
      "Epoch 90/100\n",
      "125/125 - 0s - loss: 8.3954e-05 - 233ms/epoch - 2ms/step\n",
      "Epoch 91/100\n",
      "125/125 - 0s - loss: 8.3282e-05 - 217ms/epoch - 2ms/step\n",
      "Epoch 92/100\n",
      "125/125 - 0s - loss: 8.4024e-05 - 232ms/epoch - 2ms/step\n",
      "Epoch 93/100\n",
      "125/125 - 0s - loss: 8.2513e-05 - 225ms/epoch - 2ms/step\n",
      "Epoch 94/100\n",
      "125/125 - 0s - loss: 8.1886e-05 - 213ms/epoch - 2ms/step\n",
      "Epoch 95/100\n",
      "125/125 - 0s - loss: 8.2375e-05 - 209ms/epoch - 2ms/step\n",
      "Epoch 96/100\n",
      "125/125 - 0s - loss: 8.2181e-05 - 213ms/epoch - 2ms/step\n",
      "Epoch 97/100\n",
      "125/125 - 0s - loss: 8.2101e-05 - 206ms/epoch - 2ms/step\n",
      "Epoch 98/100\n",
      "125/125 - 0s - loss: 8.1549e-05 - 209ms/epoch - 2ms/step\n",
      "Epoch 99/100\n",
      "125/125 - 0s - loss: 8.1789e-05 - 220ms/epoch - 2ms/step\n",
      "Epoch 100/100\n",
      "125/125 - 0s - loss: 8.1337e-05 - 268ms/epoch - 2ms/step\n"
     ]
    },
    {
     "data": {
      "text/plain": [
       "<keras.src.callbacks.History at 0x1df3c144bb0>"
      ]
     },
     "execution_count": 23,
     "metadata": {},
     "output_type": "execute_result"
    }
   ],
   "source": [
    "model = Sequential()\n",
    "model.add(LSTM(4, input_shape=(1, look_back)))\n",
    "model.add(Dense(1))\n",
    "model.compile(loss='mean_squared_error', optimizer='adam')\n",
    "model.fit(trainX, trainY, epochs=100, batch_size=256, verbose=2)"
   ]
  },
  {
   "cell_type": "code",
   "execution_count": 24,
   "metadata": {
    "collapsed": true
   },
   "outputs": [
    {
     "name": "stdout",
     "output_type": "stream",
     "text": [
      "998/998 [==============================] - 2s 2ms/step\n",
      "492/492 [==============================] - 1s 2ms/step\n"
     ]
    }
   ],
   "source": [
    "trainPredict = model.predict(trainX)\n",
    "testPredict = model.predict(testX)"
   ]
  },
  {
   "cell_type": "markdown",
   "metadata": {},
   "source": [
    "We have to invert the predictions before calculating error to so that reports will be in same units as our original data"
   ]
  },
  {
   "cell_type": "code",
   "execution_count": 25,
   "metadata": {
    "collapsed": true
   },
   "outputs": [],
   "source": [
    "trainPredict = scaler.inverse_transform(trainPredict)\n",
    "trainY = scaler.inverse_transform([trainY])\n",
    "testPredict = scaler.inverse_transform(testPredict)\n",
    "testY = scaler.inverse_transform([testY])"
   ]
  },
  {
   "cell_type": "code",
   "execution_count": 26,
   "metadata": {},
   "outputs": [
    {
     "name": "stdout",
     "output_type": "stream",
     "text": [
      "Train Score: 4.66 RMSE\n",
      "Test Score: 5.72 RMSE\n"
     ]
    }
   ],
   "source": [
    "\n",
    "trainScore = math.sqrt(mean_squared_error(trainY[0], trainPredict[:, 0]))\n",
    "print('Train Score: %.2f RMSE' % (trainScore))\n",
    "testScore = math.sqrt(mean_squared_error(testY[0], testPredict[:, 0]))\n",
    "print('Test Score: %.2f RMSE' % (testScore))\n"
   ]
  },
  {
   "cell_type": "code",
   "execution_count": 27,
   "metadata": {
    "collapsed": true
   },
   "outputs": [],
   "source": [
    "# shift train predictions for plotting\n",
    "trainPredictPlot = np.empty_like(dataset)\n",
    "trainPredictPlot[:, :] = np.nan\n",
    "trainPredictPlot[look_back:len(trainPredict) + look_back, :] = trainPredict\n",
    " "
   ]
  },
  {
   "cell_type": "code",
   "execution_count": 28,
   "metadata": {
    "collapsed": true
   },
   "outputs": [],
   "source": [
    " # shift test predictions for plotting\n",
    "testPredictPlot = np.empty_like(dataset)\n",
    "testPredictPlot[:, :] = np.nan\n",
    "testPredictPlot[len(trainPredict) + (look_back * 2) + 1:len(dataset) - 1, :] = testPredict\n",
    " \n"
   ]
  },
  {
   "cell_type": "code",
   "execution_count": 29,
   "metadata": {},
   "outputs": [
    {
     "data": {
      "image/png": "[encoded data removed]",
      "text/plain": [
       "<Figure size 640x480 with 1 Axes>"
      ]
     },
     "metadata": {},
     "output_type": "display_data"
    }
   ],
   "source": [
    "plt.plot(df['last'], label='Actual')\n",
    "plt.plot(pd.DataFrame(trainPredictPlot, columns=[\"close\"], index=df.index).close, label='Training')\n",
    "plt.plot(pd.DataFrame(testPredictPlot, columns=[\"close\"], index=df.index).close, label='Testing')\n",
    "plt.legend(loc='best')\n",
    "plt.show()"
   ]
  }
 ],
 "metadata": {
  "kernelspec": {
   "display_name": "Python 3",
   "language": "python",
   "name": "python3"
  },
  "language_info": {
   "codemirror_mode": {
    "name": "ipython",
    "version": 3
   },
   "file_extension": ".py",
   "mimetype": "text/x-python",
   "name": "python",
   "nbconvert_exporter": "python",
   "pygments_lexer": "ipython3",
   "version": "3.8.10"
  }
 },
 "nbformat": 4,
 "nbformat_minor": 2
}
